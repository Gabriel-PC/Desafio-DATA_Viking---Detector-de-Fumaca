{
  "nbformat": 4,
  "nbformat_minor": 0,
  "metadata": {
    "colab": {
      "provenance": [],
      "collapsed_sections": [],
      "authorship_tag": "ABX9TyPSaQzCe+bMnXI749gCNi4e",
      "include_colab_link": true
    },
    "kernelspec": {
      "name": "python3",
      "display_name": "Python 3"
    },
    "language_info": {
      "name": "python"
    }
  },
  "cells": [
    {
      "cell_type": "markdown",
      "metadata": {
        "id": "view-in-github",
        "colab_type": "text"
      },
      "source": [
        "<a href=\"https://colab.research.google.com/github/Gabriel-PC/Desafio-DATA_Viking---Detector-de-Fumaca/blob/main/Desafio_DIO_An%C3%A1lise_de_dados_com_Python_e_Pandas.ipynb\" target=\"_parent\"><img src=\"https://colab.research.google.com/assets/colab-badge.svg\" alt=\"Open In Colab\"/></a>"
      ]
    },
    {
      "cell_type": "code",
      "execution_count": 2,
      "metadata": {
        "id": "4UIMV3vwYpGO"
      },
      "outputs": [],
      "source": [
        "#import pandas e matplotlib\n",
        "import pandas as pd\n",
        "import matplotlib.pyplot as plt\n",
        "import warnings\n",
        "import statistics\n",
        "from pandas._libs.hashtable import value_count\n",
        "from statistics import mean \n"
      ]
    },
    {
      "cell_type": "code",
      "source": [
        "#importando a base de dados\n",
        "data1AW = pd.read_excel(\"/content/AdventureWorks.xlsx\")\n",
        "data2GM = pd.read_csv(\"/content/Gapminder.csv\", error_bad_lines=False, sep=\";\")"
      ],
      "metadata": {
        "id": "Zjqnov_hbd4-",
        "colab": {
          "base_uri": "https://localhost:8080/"
        },
        "outputId": "9bdb4f32-3788-49f4-91e4-597188ef3f41"
      },
      "execution_count": 4,
      "outputs": [
        {
          "output_type": "stream",
          "name": "stderr",
          "text": [
            "/usr/local/lib/python3.7/dist-packages/IPython/core/interactiveshell.py:3326: FutureWarning: The error_bad_lines argument has been deprecated and will be removed in a future version.\n",
            "\n",
            "\n",
            "  exec(code_obj, self.user_global_ns, self.user_ns)\n"
          ]
        }
      ]
    },
    {
      "cell_type": "code",
      "source": [
        "data2GM = data2GM.rename(columns={\"country\":\"Pais\", \"continent\":\"Continente\", \"year\":\"Ano\", \"lifeExp\":\"ExpecVida\", \"pop\":\"Populacao\", \"gdpPercap\":\"PIB per Capita\" })\n",
        "data2GM"
      ],
      "metadata": {
        "id": "cpgfiBzGd5Y-",
        "colab": {
          "base_uri": "https://localhost:8080/",
          "height": 424
        },
        "outputId": "75d833cf-bc48-4a3a-c3b7-3c59b9949db9"
      },
      "execution_count": 14,
      "outputs": [
        {
          "output_type": "execute_result",
          "data": {
            "text/plain": [
              "            Pais Continente   Ano            ExpecVida  Populacao  \\\n",
              "0         Greece     Europe  1950                   66    7566028   \n",
              "1       Portugal     Europe  1950                   59    8442750   \n",
              "2      Sri Lanka       Asia  1950                   56    7533097   \n",
              "3         Russia        FSU  1950                   57  101936816   \n",
              "4         Belize        NaN  1950                   58      65797   \n",
              "...          ...        ...   ...                  ...        ...   \n",
              "3307  Mauritania     Africa  2007                   64    3270065   \n",
              "3308   Mauritius     Africa  2007                   73    1250882   \n",
              "3309      Mexico   Americas  2007                   76  108700891   \n",
              "3310        Mali     Africa  2007                   54   12031795   \n",
              "3311    Zimbabwe     Africa  2007                   43   12311143   \n",
              "\n",
              "           PIB per Capita                  PIB  \n",
              "0                   3,293       24,915,193,297  \n",
              "1                   2,962       25,006,502,336  \n",
              "2                   1,033        7,785,448,262  \n",
              "3                   3,675      374,612,976,271  \n",
              "4                   1,731          113,903,340  \n",
              "...                   ...                  ...  \n",
              "3307                1,803        5,896,422,597  \n",
              "3308               10,957       13,705,902,966  \n",
              "3309               11,978    1,301,973,070,171  \n",
              "3310                1,043       12,544,127,565  \n",
              "3311                  470        5,782,658,337  \n",
              "\n",
              "[3312 rows x 7 columns]"
            ],
            "text/html": [
              "\n",
              "  <div id=\"df-f1ddfbe7-6bb5-4bef-9f60-3bc2cb31fd58\">\n",
              "    <div class=\"colab-df-container\">\n",
              "      <div>\n",
              "<style scoped>\n",
              "    .dataframe tbody tr th:only-of-type {\n",
              "        vertical-align: middle;\n",
              "    }\n",
              "\n",
              "    .dataframe tbody tr th {\n",
              "        vertical-align: top;\n",
              "    }\n",
              "\n",
              "    .dataframe thead th {\n",
              "        text-align: right;\n",
              "    }\n",
              "</style>\n",
              "<table border=\"1\" class=\"dataframe\">\n",
              "  <thead>\n",
              "    <tr style=\"text-align: right;\">\n",
              "      <th></th>\n",
              "      <th>Pais</th>\n",
              "      <th>Continente</th>\n",
              "      <th>Ano</th>\n",
              "      <th>ExpecVida</th>\n",
              "      <th>Populacao</th>\n",
              "      <th>PIB per Capita</th>\n",
              "      <th>PIB</th>\n",
              "    </tr>\n",
              "  </thead>\n",
              "  <tbody>\n",
              "    <tr>\n",
              "      <th>0</th>\n",
              "      <td>Greece</td>\n",
              "      <td>Europe</td>\n",
              "      <td>1950</td>\n",
              "      <td>66</td>\n",
              "      <td>7566028</td>\n",
              "      <td>3,293</td>\n",
              "      <td>24,915,193,297</td>\n",
              "    </tr>\n",
              "    <tr>\n",
              "      <th>1</th>\n",
              "      <td>Portugal</td>\n",
              "      <td>Europe</td>\n",
              "      <td>1950</td>\n",
              "      <td>59</td>\n",
              "      <td>8442750</td>\n",
              "      <td>2,962</td>\n",
              "      <td>25,006,502,336</td>\n",
              "    </tr>\n",
              "    <tr>\n",
              "      <th>2</th>\n",
              "      <td>Sri Lanka</td>\n",
              "      <td>Asia</td>\n",
              "      <td>1950</td>\n",
              "      <td>56</td>\n",
              "      <td>7533097</td>\n",
              "      <td>1,033</td>\n",
              "      <td>7,785,448,262</td>\n",
              "    </tr>\n",
              "    <tr>\n",
              "      <th>3</th>\n",
              "      <td>Russia</td>\n",
              "      <td>FSU</td>\n",
              "      <td>1950</td>\n",
              "      <td>57</td>\n",
              "      <td>101936816</td>\n",
              "      <td>3,675</td>\n",
              "      <td>374,612,976,271</td>\n",
              "    </tr>\n",
              "    <tr>\n",
              "      <th>4</th>\n",
              "      <td>Belize</td>\n",
              "      <td>NaN</td>\n",
              "      <td>1950</td>\n",
              "      <td>58</td>\n",
              "      <td>65797</td>\n",
              "      <td>1,731</td>\n",
              "      <td>113,903,340</td>\n",
              "    </tr>\n",
              "    <tr>\n",
              "      <th>...</th>\n",
              "      <td>...</td>\n",
              "      <td>...</td>\n",
              "      <td>...</td>\n",
              "      <td>...</td>\n",
              "      <td>...</td>\n",
              "      <td>...</td>\n",
              "      <td>...</td>\n",
              "    </tr>\n",
              "    <tr>\n",
              "      <th>3307</th>\n",
              "      <td>Mauritania</td>\n",
              "      <td>Africa</td>\n",
              "      <td>2007</td>\n",
              "      <td>64</td>\n",
              "      <td>3270065</td>\n",
              "      <td>1,803</td>\n",
              "      <td>5,896,422,597</td>\n",
              "    </tr>\n",
              "    <tr>\n",
              "      <th>3308</th>\n",
              "      <td>Mauritius</td>\n",
              "      <td>Africa</td>\n",
              "      <td>2007</td>\n",
              "      <td>73</td>\n",
              "      <td>1250882</td>\n",
              "      <td>10,957</td>\n",
              "      <td>13,705,902,966</td>\n",
              "    </tr>\n",
              "    <tr>\n",
              "      <th>3309</th>\n",
              "      <td>Mexico</td>\n",
              "      <td>Americas</td>\n",
              "      <td>2007</td>\n",
              "      <td>76</td>\n",
              "      <td>108700891</td>\n",
              "      <td>11,978</td>\n",
              "      <td>1,301,973,070,171</td>\n",
              "    </tr>\n",
              "    <tr>\n",
              "      <th>3310</th>\n",
              "      <td>Mali</td>\n",
              "      <td>Africa</td>\n",
              "      <td>2007</td>\n",
              "      <td>54</td>\n",
              "      <td>12031795</td>\n",
              "      <td>1,043</td>\n",
              "      <td>12,544,127,565</td>\n",
              "    </tr>\n",
              "    <tr>\n",
              "      <th>3311</th>\n",
              "      <td>Zimbabwe</td>\n",
              "      <td>Africa</td>\n",
              "      <td>2007</td>\n",
              "      <td>43</td>\n",
              "      <td>12311143</td>\n",
              "      <td>470</td>\n",
              "      <td>5,782,658,337</td>\n",
              "    </tr>\n",
              "  </tbody>\n",
              "</table>\n",
              "<p>3312 rows × 7 columns</p>\n",
              "</div>\n",
              "      <button class=\"colab-df-convert\" onclick=\"convertToInteractive('df-f1ddfbe7-6bb5-4bef-9f60-3bc2cb31fd58')\"\n",
              "              title=\"Convert this dataframe to an interactive table.\"\n",
              "              style=\"display:none;\">\n",
              "        \n",
              "  <svg xmlns=\"http://www.w3.org/2000/svg\" height=\"24px\"viewBox=\"0 0 24 24\"\n",
              "       width=\"24px\">\n",
              "    <path d=\"M0 0h24v24H0V0z\" fill=\"none\"/>\n",
              "    <path d=\"M18.56 5.44l.94 2.06.94-2.06 2.06-.94-2.06-.94-.94-2.06-.94 2.06-2.06.94zm-11 1L8.5 8.5l.94-2.06 2.06-.94-2.06-.94L8.5 2.5l-.94 2.06-2.06.94zm10 10l.94 2.06.94-2.06 2.06-.94-2.06-.94-.94-2.06-.94 2.06-2.06.94z\"/><path d=\"M17.41 7.96l-1.37-1.37c-.4-.4-.92-.59-1.43-.59-.52 0-1.04.2-1.43.59L10.3 9.45l-7.72 7.72c-.78.78-.78 2.05 0 2.83L4 21.41c.39.39.9.59 1.41.59.51 0 1.02-.2 1.41-.59l7.78-7.78 2.81-2.81c.8-.78.8-2.07 0-2.86zM5.41 20L4 18.59l7.72-7.72 1.47 1.35L5.41 20z\"/>\n",
              "  </svg>\n",
              "      </button>\n",
              "      \n",
              "  <style>\n",
              "    .colab-df-container {\n",
              "      display:flex;\n",
              "      flex-wrap:wrap;\n",
              "      gap: 12px;\n",
              "    }\n",
              "\n",
              "    .colab-df-convert {\n",
              "      background-color: #E8F0FE;\n",
              "      border: none;\n",
              "      border-radius: 50%;\n",
              "      cursor: pointer;\n",
              "      display: none;\n",
              "      fill: #1967D2;\n",
              "      height: 32px;\n",
              "      padding: 0 0 0 0;\n",
              "      width: 32px;\n",
              "    }\n",
              "\n",
              "    .colab-df-convert:hover {\n",
              "      background-color: #E2EBFA;\n",
              "      box-shadow: 0px 1px 2px rgba(60, 64, 67, 0.3), 0px 1px 3px 1px rgba(60, 64, 67, 0.15);\n",
              "      fill: #174EA6;\n",
              "    }\n",
              "\n",
              "    [theme=dark] .colab-df-convert {\n",
              "      background-color: #3B4455;\n",
              "      fill: #D2E3FC;\n",
              "    }\n",
              "\n",
              "    [theme=dark] .colab-df-convert:hover {\n",
              "      background-color: #434B5C;\n",
              "      box-shadow: 0px 1px 3px 1px rgba(0, 0, 0, 0.15);\n",
              "      filter: drop-shadow(0px 1px 2px rgba(0, 0, 0, 0.3));\n",
              "      fill: #FFFFFF;\n",
              "    }\n",
              "  </style>\n",
              "\n",
              "      <script>\n",
              "        const buttonEl =\n",
              "          document.querySelector('#df-f1ddfbe7-6bb5-4bef-9f60-3bc2cb31fd58 button.colab-df-convert');\n",
              "        buttonEl.style.display =\n",
              "          google.colab.kernel.accessAllowed ? 'block' : 'none';\n",
              "\n",
              "        async function convertToInteractive(key) {\n",
              "          const element = document.querySelector('#df-f1ddfbe7-6bb5-4bef-9f60-3bc2cb31fd58');\n",
              "          const dataTable =\n",
              "            await google.colab.kernel.invokeFunction('convertToInteractive',\n",
              "                                                     [key], {});\n",
              "          if (!dataTable) return;\n",
              "\n",
              "          const docLinkHtml = 'Like what you see? Visit the ' +\n",
              "            '<a target=\"_blank\" href=https://colab.research.google.com/notebooks/data_table.ipynb>data table notebook</a>'\n",
              "            + ' to learn more about interactive tables.';\n",
              "          element.innerHTML = '';\n",
              "          dataTable['output_type'] = 'display_data';\n",
              "          await google.colab.output.renderOutput(dataTable, element);\n",
              "          const docLink = document.createElement('div');\n",
              "          docLink.innerHTML = docLinkHtml;\n",
              "          element.appendChild(docLink);\n",
              "        }\n",
              "      </script>\n",
              "    </div>\n",
              "  </div>\n",
              "  "
            ]
          },
          "metadata": {},
          "execution_count": 14
        }
      ]
    },
    {
      "cell_type": "code",
      "source": [
        "# Verificando campos nulos\n",
        "print(data2GM.isna().sum())\n",
        "# Verificando a consistência dos dados (max, min, count): temperatura, umidade relativa, pressão, alarme: ok\n",
        "print(data2GM.describe(include = 'all'))\n",
        "# Verificando dados únicos: alarme, tempo e 'index': ok\n",
        "print(data2GM.nunique().sort_values())\n",
        "# Removendo as linhas com valores duplicados\n",
        "data2GM = data2GM.drop_duplicates()\n",
        "print(data2GM) #esperado já que os tempos são todos únicos"
      ],
      "metadata": {
        "id": "xdsKf8cKKdIe"
      },
      "execution_count": null,
      "outputs": []
    },
    {
      "cell_type": "code",
      "source": [
        "#Acrescentando uma coluna calculada a planilha\n",
        "data2GM[\"PIB\"] = data2GM[\"PIB per Capita\"].mul(data2GM[\"Populacao\"])\n",
        "\n",
        "#Ajustando a apresentação dos dados de float muito grandes\n",
        "pd.options.display.float_format=\"{:20,.0f}\".format\n",
        "pd.set_option('display.max_columns', 30)\n",
        "warnings.filterwarnings('ignore')\n",
        "#data2_GM.head()\n",
        "data2GM[\"Ano\"] = pd.to_datetime(data2GM[\"Ano\"], format='%Y')\n",
        "data2GM['Ano'] = pd.DatetimeIndex(data2GM[\"Ano\"]).year\n",
        "#data2_GM.dtypes\n",
        "data2GM.describe()"
      ],
      "metadata": {
        "id": "ihXoqvFUfThz",
        "colab": {
          "base_uri": "https://localhost:8080/",
          "height": 300
        },
        "outputId": "a63545b4-2c85-4505-85a1-12529c8be43b"
      },
      "execution_count": 19,
      "outputs": [
        {
          "output_type": "execute_result",
          "data": {
            "text/plain": [
              "                       Ano            ExpecVida            Populacao  \\\n",
              "count                3,312                3,312                3,312   \n",
              "mean                 1,980                   65           31,614,891   \n",
              "std                     17                   12          104,119,343   \n",
              "min                  1,950                   24               59,412   \n",
              "25%                  1,967                   58            2,678,572   \n",
              "50%                  1,982                   70            7,557,218   \n",
              "75%                  1,996                   74           19,585,222   \n",
              "max                  2,007                   83        1,318,683,096   \n",
              "\n",
              "            PIB per Capita                  PIB  \n",
              "count                3,312                3,312  \n",
              "mean                11,317      304,922,654,087  \n",
              "std                 11,369      981,982,327,978  \n",
              "min                    241           52,784,691  \n",
              "25%                  2,515        8,988,503,786  \n",
              "50%                  7,839       49,817,768,152  \n",
              "75%                 17,358      185,359,011,956  \n",
              "max                113,523   12,934,458,535,085  "
            ],
            "text/html": [
              "\n",
              "  <div id=\"df-84c3cbc6-fe16-4912-922b-31f102970dd6\">\n",
              "    <div class=\"colab-df-container\">\n",
              "      <div>\n",
              "<style scoped>\n",
              "    .dataframe tbody tr th:only-of-type {\n",
              "        vertical-align: middle;\n",
              "    }\n",
              "\n",
              "    .dataframe tbody tr th {\n",
              "        vertical-align: top;\n",
              "    }\n",
              "\n",
              "    .dataframe thead th {\n",
              "        text-align: right;\n",
              "    }\n",
              "</style>\n",
              "<table border=\"1\" class=\"dataframe\">\n",
              "  <thead>\n",
              "    <tr style=\"text-align: right;\">\n",
              "      <th></th>\n",
              "      <th>Ano</th>\n",
              "      <th>ExpecVida</th>\n",
              "      <th>Populacao</th>\n",
              "      <th>PIB per Capita</th>\n",
              "      <th>PIB</th>\n",
              "    </tr>\n",
              "  </thead>\n",
              "  <tbody>\n",
              "    <tr>\n",
              "      <th>count</th>\n",
              "      <td>3,312</td>\n",
              "      <td>3,312</td>\n",
              "      <td>3,312</td>\n",
              "      <td>3,312</td>\n",
              "      <td>3,312</td>\n",
              "    </tr>\n",
              "    <tr>\n",
              "      <th>mean</th>\n",
              "      <td>1,980</td>\n",
              "      <td>65</td>\n",
              "      <td>31,614,891</td>\n",
              "      <td>11,317</td>\n",
              "      <td>304,922,654,087</td>\n",
              "    </tr>\n",
              "    <tr>\n",
              "      <th>std</th>\n",
              "      <td>17</td>\n",
              "      <td>12</td>\n",
              "      <td>104,119,343</td>\n",
              "      <td>11,369</td>\n",
              "      <td>981,982,327,978</td>\n",
              "    </tr>\n",
              "    <tr>\n",
              "      <th>min</th>\n",
              "      <td>1,950</td>\n",
              "      <td>24</td>\n",
              "      <td>59,412</td>\n",
              "      <td>241</td>\n",
              "      <td>52,784,691</td>\n",
              "    </tr>\n",
              "    <tr>\n",
              "      <th>25%</th>\n",
              "      <td>1,967</td>\n",
              "      <td>58</td>\n",
              "      <td>2,678,572</td>\n",
              "      <td>2,515</td>\n",
              "      <td>8,988,503,786</td>\n",
              "    </tr>\n",
              "    <tr>\n",
              "      <th>50%</th>\n",
              "      <td>1,982</td>\n",
              "      <td>70</td>\n",
              "      <td>7,557,218</td>\n",
              "      <td>7,839</td>\n",
              "      <td>49,817,768,152</td>\n",
              "    </tr>\n",
              "    <tr>\n",
              "      <th>75%</th>\n",
              "      <td>1,996</td>\n",
              "      <td>74</td>\n",
              "      <td>19,585,222</td>\n",
              "      <td>17,358</td>\n",
              "      <td>185,359,011,956</td>\n",
              "    </tr>\n",
              "    <tr>\n",
              "      <th>max</th>\n",
              "      <td>2,007</td>\n",
              "      <td>83</td>\n",
              "      <td>1,318,683,096</td>\n",
              "      <td>113,523</td>\n",
              "      <td>12,934,458,535,085</td>\n",
              "    </tr>\n",
              "  </tbody>\n",
              "</table>\n",
              "</div>\n",
              "      <button class=\"colab-df-convert\" onclick=\"convertToInteractive('df-84c3cbc6-fe16-4912-922b-31f102970dd6')\"\n",
              "              title=\"Convert this dataframe to an interactive table.\"\n",
              "              style=\"display:none;\">\n",
              "        \n",
              "  <svg xmlns=\"http://www.w3.org/2000/svg\" height=\"24px\"viewBox=\"0 0 24 24\"\n",
              "       width=\"24px\">\n",
              "    <path d=\"M0 0h24v24H0V0z\" fill=\"none\"/>\n",
              "    <path d=\"M18.56 5.44l.94 2.06.94-2.06 2.06-.94-2.06-.94-.94-2.06-.94 2.06-2.06.94zm-11 1L8.5 8.5l.94-2.06 2.06-.94-2.06-.94L8.5 2.5l-.94 2.06-2.06.94zm10 10l.94 2.06.94-2.06 2.06-.94-2.06-.94-.94-2.06-.94 2.06-2.06.94z\"/><path d=\"M17.41 7.96l-1.37-1.37c-.4-.4-.92-.59-1.43-.59-.52 0-1.04.2-1.43.59L10.3 9.45l-7.72 7.72c-.78.78-.78 2.05 0 2.83L4 21.41c.39.39.9.59 1.41.59.51 0 1.02-.2 1.41-.59l7.78-7.78 2.81-2.81c.8-.78.8-2.07 0-2.86zM5.41 20L4 18.59l7.72-7.72 1.47 1.35L5.41 20z\"/>\n",
              "  </svg>\n",
              "      </button>\n",
              "      \n",
              "  <style>\n",
              "    .colab-df-container {\n",
              "      display:flex;\n",
              "      flex-wrap:wrap;\n",
              "      gap: 12px;\n",
              "    }\n",
              "\n",
              "    .colab-df-convert {\n",
              "      background-color: #E8F0FE;\n",
              "      border: none;\n",
              "      border-radius: 50%;\n",
              "      cursor: pointer;\n",
              "      display: none;\n",
              "      fill: #1967D2;\n",
              "      height: 32px;\n",
              "      padding: 0 0 0 0;\n",
              "      width: 32px;\n",
              "    }\n",
              "\n",
              "    .colab-df-convert:hover {\n",
              "      background-color: #E2EBFA;\n",
              "      box-shadow: 0px 1px 2px rgba(60, 64, 67, 0.3), 0px 1px 3px 1px rgba(60, 64, 67, 0.15);\n",
              "      fill: #174EA6;\n",
              "    }\n",
              "\n",
              "    [theme=dark] .colab-df-convert {\n",
              "      background-color: #3B4455;\n",
              "      fill: #D2E3FC;\n",
              "    }\n",
              "\n",
              "    [theme=dark] .colab-df-convert:hover {\n",
              "      background-color: #434B5C;\n",
              "      box-shadow: 0px 1px 3px 1px rgba(0, 0, 0, 0.15);\n",
              "      filter: drop-shadow(0px 1px 2px rgba(0, 0, 0, 0.3));\n",
              "      fill: #FFFFFF;\n",
              "    }\n",
              "  </style>\n",
              "\n",
              "      <script>\n",
              "        const buttonEl =\n",
              "          document.querySelector('#df-84c3cbc6-fe16-4912-922b-31f102970dd6 button.colab-df-convert');\n",
              "        buttonEl.style.display =\n",
              "          google.colab.kernel.accessAllowed ? 'block' : 'none';\n",
              "\n",
              "        async function convertToInteractive(key) {\n",
              "          const element = document.querySelector('#df-84c3cbc6-fe16-4912-922b-31f102970dd6');\n",
              "          const dataTable =\n",
              "            await google.colab.kernel.invokeFunction('convertToInteractive',\n",
              "                                                     [key], {});\n",
              "          if (!dataTable) return;\n",
              "\n",
              "          const docLinkHtml = 'Like what you see? Visit the ' +\n",
              "            '<a target=\"_blank\" href=https://colab.research.google.com/notebooks/data_table.ipynb>data table notebook</a>'\n",
              "            + ' to learn more about interactive tables.';\n",
              "          element.innerHTML = '';\n",
              "          dataTable['output_type'] = 'display_data';\n",
              "          await google.colab.output.renderOutput(dataTable, element);\n",
              "          const docLink = document.createElement('div');\n",
              "          docLink.innerHTML = docLinkHtml;\n",
              "          element.appendChild(docLink);\n",
              "        }\n",
              "      </script>\n",
              "    </div>\n",
              "  </div>\n",
              "  "
            ]
          },
          "metadata": {},
          "execution_count": 19
        }
      ]
    },
    {
      "cell_type": "code",
      "source": [
        "data2GM['Ano'].describe()"
      ],
      "metadata": {
        "id": "OVm4bxy-Nb0g",
        "colab": {
          "base_uri": "https://localhost:8080/"
        },
        "outputId": "e917e326-d6d5-4d7b-9689-e43fcfdd2aa3"
      },
      "execution_count": 32,
      "outputs": [
        {
          "output_type": "execute_result",
          "data": {
            "text/plain": [
              "count                  3,312\n",
              "mean                   1,980\n",
              "std                       17\n",
              "min                    1,950\n",
              "25%                    1,967\n",
              "50%                    1,982\n",
              "75%                    1,996\n",
              "max                    2,007\n",
              "Name: Ano, dtype: float64"
            ]
          },
          "metadata": {},
          "execution_count": 32
        }
      ]
    },
    {
      "cell_type": "code",
      "source": [
        "data2GM.mean()"
      ],
      "metadata": {
        "colab": {
          "base_uri": "https://localhost:8080/"
        },
        "id": "8Onw_JJPp53Q",
        "outputId": "8d6cfd76-a527-47e6-e1ec-67d1c35c0918"
      },
      "execution_count": 47,
      "outputs": [
        {
          "output_type": "execute_result",
          "data": {
            "text/plain": [
              "Ano                             1,980\n",
              "ExpecVida                          65\n",
              "Populacao                  31,614,891\n",
              "PIB per Capita                 11,317\n",
              "PIB                   304,922,654,087\n",
              "dtype: float64"
            ]
          },
          "metadata": {},
          "execution_count": 47
        }
      ]
    },
    {
      "cell_type": "code",
      "source": [
        "data2GM[\"PIB\"].mean()"
      ],
      "metadata": {
        "colab": {
          "base_uri": "https://localhost:8080/"
        },
        "id": "IpjJV2SrqNUx",
        "outputId": "ae81ae47-9b9e-4538-e248-3a3b8cc18ef9"
      },
      "execution_count": 48,
      "outputs": [
        {
          "output_type": "execute_result",
          "data": {
            "text/plain": [
              "304922654086.72473"
            ]
          },
          "metadata": {},
          "execution_count": 48
        }
      ]
    },
    {
      "cell_type": "code",
      "source": [
        "data2GM.groupby(['Ano'])['PIB'].mean()"
      ],
      "metadata": {
        "colab": {
          "base_uri": "https://localhost:8080/"
        },
        "id": "j5YqIM09PXce",
        "outputId": "746cb16c-336d-4638-9d0f-0dbc347f9fb4"
      },
      "execution_count": 44,
      "outputs": [
        {
          "output_type": "execute_result",
          "data": {
            "text/plain": [
              "435285011494.7466"
            ]
          },
          "metadata": {},
          "execution_count": 44
        }
      ]
    },
    {
      "cell_type": "code",
      "source": [
        "data2GM = data2GM.sort_values(\"Ano\", ascending=True).reset_index(drop=True)\n",
        "data2GM"
      ],
      "metadata": {
        "id": "MaZTTcuwLi6l"
      },
      "execution_count": null,
      "outputs": []
    },
    {
      "cell_type": "code",
      "source": [
        "data2GM.groupby(['Ano']).mean()['PIB per Capita'].mean()"
      ],
      "metadata": {
        "colab": {
          "base_uri": "https://localhost:8080/"
        },
        "id": "UvNkcUh3ND3W",
        "outputId": "534ab086-7244-42e9-e101-57d002d81ed2"
      },
      "execution_count": 46,
      "outputs": [
        {
          "output_type": "execute_result",
          "data": {
            "text/plain": [
              "14386.002855136041"
            ]
          },
          "metadata": {},
          "execution_count": 46
        }
      ]
    },
    {
      "cell_type": "code",
      "source": [
        "statistics.mean(data2GM.groupby(['Ano']).mean()['PIB'])"
      ],
      "metadata": {
        "colab": {
          "base_uri": "https://localhost:8080/"
        },
        "id": "00AgFnAgXsRw",
        "outputId": "a7b629b4-f000-44a7-91d9-deabd28b9832"
      },
      "execution_count": 34,
      "outputs": [
        {
          "output_type": "execute_result",
          "data": {
            "text/plain": [
              "435285011494.7465"
            ]
          },
          "metadata": {},
          "execution_count": 34
        }
      ]
    },
    {
      "cell_type": "code",
      "source": [
        "from pandas._libs.hashtable import value_count\n",
        "#Apresentando os 20% mais ricos e os 20% mais pobres\n",
        "import numpy as np\n",
        "\n",
        "#print(np.mean(data2_GM.sort_values(by=[\"Ano\",\"PIB per Capita\"]).reset_index(drop=True).head(662)))\n",
        "#data2_GM = data2_GM.sort_values(by=[\"Ano\",\"PIB per Capita\"]).reset_index(drop=True)\n",
        "#data2_GM.groupby(by = ['Ano','Continente', 'Pais'])['PIB per Capita'].mean()\n",
        "#for Ano in (data2_GM['Ano']).unique() : print(Ano, np.mean(data2_GM[\"PIB per Capita\"]))\n",
        "#print(np.mean(pd.DataFrame(data2_GM[\"Ano\"])).sort_values(by=[\"Ano\",\"PIB per Capita\"]).reset_index(drop=True).tail(662))\n",
        "\n",
        "contador_por_ano = value_count(data2GM[\"Ano\"] == \"1950\")\n",
        "\n",
        "for x in contador_por_ano :\n",
        "  print(np.mean(data2GM.at[x, 5]))\n",
        "# quero o elemento que está: \n",
        "# na 3ª linha (índice 2)\n",
        "# na 1ª coluna (índice 0)\n",
        "#print(df.iat[2, 0])\n"
      ],
      "metadata": {
        "id": "Cy1FlnMOhMKc"
      },
      "execution_count": null,
      "outputs": []
    },
    {
      "cell_type": "code",
      "source": [
        "print(data2GM[data2GM[\"Pais\"] == \"Libya\"])\n",
        "print(np.mean(data2GM[data2GM[\"Pais\"] == \"Libya\"]))"
      ],
      "metadata": {
        "id": "NZBxamZ8Vk8O"
      },
      "execution_count": null,
      "outputs": []
    },
    {
      "cell_type": "code",
      "source": [
        "#for Ano in (data2_GM[\"Ano\"]) : print(np.mean(data2_GM[data2_GM[\"PIB per Capita\"] == Ano]))\n",
        "\n",
        "for Ano in data2GM[\"Ano\"].unique() : print(data2GM.groupby(by = ['Ano','Continente', 'Pais'])['PIB per Capita'].mean())\n",
        "\n",
        "#data2_GM.groupby(by = ['Ano','Continente', 'Pais'])['PIB per Capita'].mean()"
      ],
      "metadata": {
        "id": "zwwvF_dxW46u"
      },
      "execution_count": null,
      "outputs": []
    },
    {
      "cell_type": "code",
      "source": [
        "magicians = ['alice', 'david', 'carolina']\n",
        "for magician in magicians: print(magician)"
      ],
      "metadata": {
        "id": "Af_0V4B6Zs_F"
      },
      "execution_count": null,
      "outputs": []
    },
    {
      "cell_type": "code",
      "source": [
        "print(data2GM[\"Ano\"].unique())\n",
        "#print((data2_GM.groupby(by = ['Ano', 'Continente', 'Pais'])['PIB per Capita']).count())\n",
        "print(data2GM.query(\"Ano\").mean())\n",
        "#df.query('(NU_ANO == 2015) & (SG_UF_ESCOLA == \"BA\") & (NU_MEDIA_MT >= 600)')\n",
        "#df.loc[df['NU_ANO'] == 2015]\n",
        "#df.loc[df['NU_ANO'] == 2015]['TP_DEPENDENCIA_ADM_ESCOLA'].value_counts().sort_index()\n"
      ],
      "metadata": {
        "id": "UYKY8fIbadwl",
        "colab": {
          "base_uri": "https://localhost:8080/"
        },
        "outputId": "a3643249-9397-469d-b610-cc521094e376"
      },
      "execution_count": 43,
      "outputs": [
        {
          "output_type": "stream",
          "name": "stdout",
          "text": [
            "[1950 1951 1952 1953 1954 1955 1956 1957 1958 1959 1960 1961 1962 1963\n",
            " 1964 1965 1966 1967 1968 1969 1970 1971 1972 1973 1974 1975 1976 1977\n",
            " 1978 1979 1980 1981 1982 1983 1984 1985 1986 1987 1988 1989 1990 1991\n",
            " 1992 1993 1994 1995 1996 1997 1998 1999 2000 2001 2002 2003 2004 2005\n",
            " 2006 2007]\n",
            "Ano                             1,987\n",
            "ExpecVida                          64\n",
            "Populacao                  24,263,977\n",
            "PIB per Capita                  8,856\n",
            "PIB                   190,707,750,572\n",
            "dtype: float64\n"
          ]
        }
      ]
    },
    {
      "cell_type": "markdown",
      "source": [
        "count                  3,312\n",
        "mean                   1,980\n",
        "std                       17\n",
        "min                    1,950\n",
        "25%                    1,967\n",
        "50%                    1,982\n",
        "75%                    1,996\n",
        "max                    2,007\n",
        "\n",
        "Ano                             1,987\n",
        "ExpecVida                          64\n",
        "Populacao                  24,263,977\n",
        "PIB per Capita                  8,856\n",
        "PIB                   190,707,750,572"
      ],
      "metadata": {
        "id": "Bwc3eu7WgpcM"
      }
    },
    {
      "cell_type": "code",
      "source": [
        "# filtro múltiplo\n",
        "mask = (data2GM['NU_ANO'] == 2015) & (data2GM['NO_MUNICIPIO_ESCOLA'] == 'Salvador') & (data2GM['NU_MEDIA_MT'] >= 600)\n",
        "\n",
        "df.loc[mask][['NO_ESCOLA_EDUCACENSO', 'NU_MEDIA_MT']]\\\n",
        ".sort_values(by = 'NU_MEDIA_MT', ascending = False)\\\n",
        ".reset_index(drop = True)"
      ],
      "metadata": {
        "id": "aLxOmYZseBo8"
      },
      "execution_count": null,
      "outputs": []
    },
    {
      "cell_type": "code",
      "source": [
        "ranking_mt = data2GM_cleaned[data2GM_cleaned['ANO'].isin([i for i in range(2009, 2016)])]\\\n",
        ".groupby(by = ['ANO', 'SG_UF_ESCOLA'], as_index = False)['MEDIA_MT'].agg([np.mean])\\\n",
        ".pivot_table(index = ['SG_UF_ESCOLA'], columns = 'ANO')\n",
        "\n",
        "ranking_mt.columns = ranking_mt.columns.droplevel(0)\n",
        "ranking_mt = ranking_mt.sort_values(by = 2015)"
      ],
      "metadata": {
        "id": "EWP4YHCvd_0N"
      },
      "execution_count": null,
      "outputs": []
    }
  ]
}